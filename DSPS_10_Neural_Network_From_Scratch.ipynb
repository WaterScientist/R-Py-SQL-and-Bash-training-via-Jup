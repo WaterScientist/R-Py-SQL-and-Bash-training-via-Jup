{
  "nbformat": 4,
  "nbformat_minor": 0,
  "metadata": {
    "colab": {
      "name": "DSPS#10 Neural Network From Scratch.ipynb",
      "provenance": [],
      "collapsed_sections": [],
      "include_colab_link": true
    },
    "kernelspec": {
      "name": "python3",
      "display_name": "Python 3"
    },
    "accelerator": "GPU"
  },
  "cells": [
    {
      "cell_type": "markdown",
      "metadata": {
        "id": "view-in-github",
        "colab_type": "text"
      },
      "source": [
        "<a href=\"https://colab.research.google.com/github/WaterScientist/R-Py-SQL-and-Bash-training-via-Jup/blob/main/DSPS_10_Neural_Network_From_Scratch.ipynb\" target=\"_parent\"><img src=\"https://colab.research.google.com/assets/colab-badge.svg\" alt=\"Open In Colab\"/></a>"
      ]
    },
    {
      "cell_type": "markdown",
      "metadata": {
        "id": "ZiUyi--RaRzY"
      },
      "source": [
        "#10 Neural Network From Scratch"
      ]
    },
    {
      "cell_type": "markdown",
      "metadata": {
        "id": "03KaQgMfyGKB"
      },
      "source": [
        "## Introduction\n",
        "\n",
        "<img src=\"https://raw.githubusercontent.com/michalharakal/data-science-study/master/meetup/dsps_10/img/Simple_N_N.png\">\n",
        "\n",
        "\n"
      ]
    },
    {
      "cell_type": "markdown",
      "metadata": {
        "id": "zvu9reDXwoVz"
      },
      "source": [
        "## Keras"
      ]
    },
    {
      "cell_type": "code",
      "metadata": {
        "colab": {
          "base_uri": "https://localhost:8080/"
        },
        "id": "slag_EShwpvY",
        "outputId": "e84484f6-3fcc-4cdc-d5e2-0f51140ea076"
      },
      "source": [
        "import tensorflow\n",
        "from tensorflow import keras\n",
        "from tensorflow.keras import layers\n",
        "from tensorflow.keras.optimizers import SGD\n",
        "import numpy as np\n",
        "\n",
        "model = keras.models.Sequential( \n",
        "        [\n",
        "                keras.Input(shape=2),\n",
        "                layers.Dense(2, activation=\"tanh\"),\n",
        "                layers.Dense(1, activation=\"sigmoid\"),\n",
        "        ]\n",
        "    )\n",
        "\n",
        "model.summary()"
      ],
      "execution_count": null,
      "outputs": [
        {
          "output_type": "stream",
          "text": [
            "Model: \"sequential\"\n",
            "_________________________________________________________________\n",
            "Layer (type)                 Output Shape              Param #   \n",
            "=================================================================\n",
            "dense (Dense)                (None, 2)                 6         \n",
            "_________________________________________________________________\n",
            "dense_1 (Dense)              (None, 1)                 3         \n",
            "=================================================================\n",
            "Total params: 9\n",
            "Trainable params: 9\n",
            "Non-trainable params: 0\n",
            "_________________________________________________________________\n"
          ],
          "name": "stdout"
        }
      ]
    },
    {
      "cell_type": "code",
      "metadata": {
        "id": "4pyx0z63wuKE"
      },
      "source": [
        "model.compile(loss = \"mean_squared_error\", metrics=[\"accuracy\"], optimizer = SGD(lr = 0.1))\n",
        "\n",
        "tensorflow.keras.backend.clear_session()\n",
        "history = model.fit(X_train, y_train, epochs=3000, verbose = 0)"
      ],
      "execution_count": null,
      "outputs": []
    },
    {
      "cell_type": "code",
      "metadata": {
        "id": "ON6yM6zdw0fh"
      },
      "source": [
        "plot_training(history.history)"
      ],
      "execution_count": null,
      "outputs": []
    },
    {
      "cell_type": "markdown",
      "metadata": {
        "id": "QYWl4yzjxJ_n"
      },
      "source": [
        "## Python"
      ]
    },
    {
      "cell_type": "markdown",
      "metadata": {
        "id": "NIP6cTDPwLqo"
      },
      "source": [
        "### Helper functions"
      ]
    },
    {
      "cell_type": "code",
      "metadata": {
        "id": "MHrOqaaUwOoC"
      },
      "source": [
        "import matplotlib.pyplot as plt\n",
        "\n",
        "def plot_training(history):\n",
        "  plt.figure(figsize=(4, 5))\n",
        "  plt.plot(history['accuracy'], label='Train accuracy')\n",
        "  plt.plot(history['loss'], label='Train loss')\n",
        "  plt.legend()\n",
        "  plt.show()"
      ],
      "execution_count": null,
      "outputs": []
    },
    {
      "cell_type": "markdown",
      "metadata": {
        "id": "B3tB-irLxhtF"
      },
      "source": [
        "## Data"
      ]
    },
    {
      "cell_type": "code",
      "metadata": {
        "colab": {
          "base_uri": "https://localhost:8080/"
        },
        "id": "MQpOlSIixjCj",
        "outputId": "5ff4aab9-89f8-4046-bcdd-39bd8206a70c"
      },
      "source": [
        "import numpy as np\n",
        "\n",
        "X_train = np.array([\n",
        "    [0,0], [0,1],\n",
        "    [1,0], [1,1]\n",
        "])\n",
        "y_train = np.array([\n",
        "    [0], [1], \n",
        "    [1], [0]\n",
        "])\n",
        "\n",
        "print('X_train shape: ', X_train.shape)\n",
        "print('y_train shape: ', y_train.shape)"
      ],
      "execution_count": null,
      "outputs": [
        {
          "output_type": "stream",
          "text": [
            "X_train shape:  (4, 2)\n",
            "y_train shape:  (4, 1)\n"
          ],
          "name": "stdout"
        }
      ]
    },
    {
      "cell_type": "code",
      "metadata": {
        "colab": {
          "base_uri": "https://localhost:8080/",
          "height": 285
        },
        "id": "_v-wp_v0vgp-",
        "outputId": "052cedaa-ae48-483c-97b6-70e245b81247"
      },
      "source": [
        "import pandas as pd\n",
        "import seaborn as sns\n",
        "sns.set()\n",
        "\n",
        "data = pd.DataFrame(X_train, columns=['x1', 'x2'])\n",
        "data['xor'] = y_train\n",
        "sns.scatterplot(data=data, x='x1', y='x2', style='xor', hue='xor', s=100)\n",
        "plt.show()"
      ],
      "execution_count": null,
      "outputs": [
        {
          "output_type": "display_data",
          "data": {
            "image/png": "[encoded data removed]",
            "text/plain": [
              "<Figure size 432x288 with 1 Axes>"
            ]
          },
          "metadata": {
            "tags": []
          }
        }
      ]
    },
    {
      "cell_type": "code",
      "metadata": {
        "id": "A9O7gX1grgRq"
      },
      "source": [
        "import numpy as np\n",
        "\n",
        "class SimpleNeuralNetwork:\n",
        "  def __init__(self):\n",
        "    pass\n",
        "\n",
        "  def forward(self):\n",
        "    pass\n",
        "\n",
        "  def loss(self):\n",
        "    pass\n",
        "\n",
        "  def backward(self):\n",
        "    pass\n",
        "\n",
        "  def weights_update(self):\n",
        "    pass\n",
        "  \n",
        "  def fit(self, X_train, y_train, epochs=500):\n",
        "    \n",
        "    for epoch in range(epochs):\n",
        "      self.forward()\n",
        "      self.loss()\n",
        "      self.backward()\n",
        "      self.weights_update()\n",
        "      \n",
        "    history = {}\n",
        "    history[\"accuracy\"] = np.zeros(epochs)\n",
        "    history[\"loss\"] = np.ones(epochs)\n",
        "    return history\n",
        "\n",
        "  def predict():\n",
        "    pass\n",
        "\n",
        "model = SimpleNeuralNetwork()\n",
        "history = model.fit(X_train, y_train)     \n"
      ],
      "execution_count": null,
      "outputs": []
    },
    {
      "cell_type": "code",
      "metadata": {
        "colab": {
          "base_uri": "https://localhost:8080/",
          "height": 322
        },
        "id": "eTj45Jrqt2jM",
        "outputId": "e03cd0f2-d832-4dc1-d393-bf5434661f7b"
      },
      "source": [
        "plot_training(history)"
      ],
      "execution_count": null,
      "outputs": [
        {
          "output_type": "display_data",
          "data": {
            "image/png": "[encoded data removed]",
            "text/plain": [
              "<Figure size 288x360 with 1 Axes>"
            ]
          },
          "metadata": {
            "tags": []
          }
        }
      ]
    }
  ]
}